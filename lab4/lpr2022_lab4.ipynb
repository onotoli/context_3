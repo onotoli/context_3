{
 "cells": [
  {
   "cell_type": "markdown",
   "metadata": {},
   "source": [
    "# Библиотека numpy"
   ]
  },
  {
   "cell_type": "markdown",
   "metadata": {},
   "source": [
    "**NumPy** — это библиотека языка Python, добавляющая поддержку больших многомерных массивов и матриц, вместе с большой библиотекой высокоуровневых (и очень быстрых) математических функций для операций с этими массивами."
   ]
  },
  {
   "cell_type": "markdown",
   "metadata": {},
   "source": [
    "Основным объектом NumPy является однородный многомерный массив (в numpy называется numpy.ndarray). Это многомерный массив элементов (обычно чисел), одного типа.\n",
    "\n",
    "Наиболее важные атрибуты объектов ndarray:\n",
    "\n",
    "**ndarray.ndim** - число измерений (чаще их называют \"оси\") массива.\n",
    "\n",
    "**ndarray.shape** - размеры массива, его форма. Это кортеж натуральных чисел, показывающий длину массива по каждой оси. Для матрицы из n строк и m столбов, shape будет (n,m). Число элементов кортежа shape равно ndim.\n",
    "\n",
    "**ndarray.size** - количество элементов массива. Очевидно, равно произведению всех элементов атрибута shape.\n",
    "\n",
    "**ndarray.dtype** - объект, описывающий тип элементов массива. Можно определить dtype, используя стандартные типы данных Python. NumPy здесь предоставляет целый букет возможностей, как встроенных, например: bool_, character, int8, int16, int32, int64, float8, float16, float32, float64, complex64, object_, так и возможность определить собственные типы данных, в том числе и составные.\n",
    "\n",
    "**ndarray.itemsize** - размер каждого элемента массива в байтах."
   ]
  },
  {
   "cell_type": "markdown",
   "metadata": {},
   "source": [
    "# Создание массивов"
   ]
  },
  {
   "cell_type": "markdown",
   "metadata": {},
   "source": [
    "В NumPy существует много способов создать массив. Один из наиболее простых - создать массив из обычных списков или кортежей Python, используя функцию numpy.array() (запомните: array - функция, создающая объект типа ndarray):"
   ]
  },
  {
   "cell_type": "code",
   "execution_count": 1,
   "metadata": {},
   "outputs": [
    {
     "data": {
      "text/plain": [
       "array([1, 2, 3])"
      ]
     },
     "execution_count": 1,
     "metadata": {},
     "output_type": "execute_result"
    }
   ],
   "source": [
    "import numpy as np\n",
    "\n",
    "a = np.array([1, 2, 3])\n",
    "a"
   ]
  },
  {
   "cell_type": "code",
   "execution_count": 2,
   "metadata": {},
   "outputs": [
    {
     "data": {
      "text/plain": [
       "numpy.ndarray"
      ]
     },
     "execution_count": 2,
     "metadata": {},
     "output_type": "execute_result"
    }
   ],
   "source": [
    "type(a)"
   ]
  },
  {
   "cell_type": "markdown",
   "metadata": {},
   "source": [
    "Функция array() трансформирует вложенные последовательности в многомерные массивы. Тип элементов массива зависит от типа элементов исходной последовательности (но можно и переопределить его в момент создания)."
   ]
  },
  {
   "cell_type": "code",
   "execution_count": 3,
   "metadata": {},
   "outputs": [
    {
     "data": {
      "text/plain": [
       "array([[1.5, 2. , 3. ],\n",
       "       [4. , 5. , 6. ]])"
      ]
     },
     "execution_count": 3,
     "metadata": {},
     "output_type": "execute_result"
    }
   ],
   "source": [
    "b = np.array([[1.5, 2, 3], [4, 5, 6]])\n",
    "b"
   ]
  },
  {
   "cell_type": "markdown",
   "metadata": {},
   "source": [
    "Можно также переопределить тип в момент создания:"
   ]
  },
  {
   "cell_type": "code",
   "execution_count": 4,
   "metadata": {},
   "outputs": [
    {
     "name": "stderr",
     "output_type": "stream",
     "text": [
      "/tmp/ipykernel_4800/2311286893.py:1: DeprecationWarning: `np.complex` is a deprecated alias for the builtin `complex`. To silence this warning, use `complex` by itself. Doing this will not modify any behavior and is safe. If you specifically wanted the numpy scalar type, use `np.complex128` here.\n",
      "Deprecated in NumPy 1.20; for more details and guidance: https://numpy.org/devdocs/release/1.20.0-notes.html#deprecations\n",
      "  b = np.array([[1.5, 2, 3], [4, 5, 6]], dtype=np.complex)\n"
     ]
    },
    {
     "data": {
      "text/plain": [
       "array([[1.5+0.j, 2. +0.j, 3. +0.j],\n",
       "       [4. +0.j, 5. +0.j, 6. +0.j]])"
      ]
     },
     "execution_count": 4,
     "metadata": {},
     "output_type": "execute_result"
    }
   ],
   "source": [
    "b = np.array([[1.5, 2, 3], [4, 5, 6]], dtype=np.complex)\n",
    "b"
   ]
  },
  {
   "cell_type": "markdown",
   "metadata": {},
   "source": [
    "Функция array() не единственная функция для создания массивов. Обычно элементы массива вначале неизвестны, а массив, в котором они будут храниться, уже нужен. Поэтому имеется несколько функций для того, чтобы создавать массивы с каким-то исходным содержимым (по умолчанию тип создаваемого массива — float64).\n",
    "\n",
    "Функция zeros() создает массив из нулей, а функция ones() — массив из единиц. Обе функции принимают кортеж с размерами, и аргумент dtype:"
   ]
  },
  {
   "cell_type": "code",
   "execution_count": 5,
   "metadata": {},
   "outputs": [
    {
     "data": {
      "text/plain": [
       "array([[0., 0., 0., 0., 0.],\n",
       "       [0., 0., 0., 0., 0.],\n",
       "       [0., 0., 0., 0., 0.]])"
      ]
     },
     "execution_count": 5,
     "metadata": {},
     "output_type": "execute_result"
    }
   ],
   "source": [
    "a = np.zeros((3, 5))\n",
    "a"
   ]
  },
  {
   "cell_type": "code",
   "execution_count": 6,
   "metadata": {},
   "outputs": [
    {
     "data": {
      "text/plain": [
       "array([[[1., 1.],\n",
       "        [1., 1.]],\n",
       "\n",
       "       [[1., 1.],\n",
       "        [1., 1.]]])"
      ]
     },
     "execution_count": 6,
     "metadata": {},
     "output_type": "execute_result"
    }
   ],
   "source": [
    "a = np.ones((2, 2, 2))\n",
    "a"
   ]
  },
  {
   "cell_type": "markdown",
   "metadata": {},
   "source": [
    "Функция eye() создаёт единичную матрицу (двумерный массив)"
   ]
  },
  {
   "cell_type": "code",
   "execution_count": 7,
   "metadata": {},
   "outputs": [
    {
     "data": {
      "text/plain": [
       "array([[1., 0., 0., 0., 0.],\n",
       "       [0., 1., 0., 0., 0.],\n",
       "       [0., 0., 1., 0., 0.],\n",
       "       [0., 0., 0., 1., 0.],\n",
       "       [0., 0., 0., 0., 1.]])"
      ]
     },
     "execution_count": 7,
     "metadata": {},
     "output_type": "execute_result"
    }
   ],
   "source": [
    "a = np.eye(5)\n",
    "a"
   ]
  },
  {
   "cell_type": "markdown",
   "metadata": {},
   "source": [
    "Функция empty() создает массив без его заполнения. Исходное содержимое случайно и зависит от состояния памяти на момент создания массива (то есть от того мусора, что в ней хранится):"
   ]
  },
  {
   "cell_type": "code",
   "execution_count": 8,
   "metadata": {},
   "outputs": [
    {
     "data": {
      "text/plain": [
       "array([[6.92838232e-310, 6.92838232e-310, 0.00000000e+000],\n",
       "       [0.00000000e+000, 0.00000000e+000, 0.00000000e+000],\n",
       "       [2.12199579e-313, 4.79243676e-322, 3.95252517e-322]])"
      ]
     },
     "execution_count": 8,
     "metadata": {},
     "output_type": "execute_result"
    }
   ],
   "source": [
    "a = np.empty((3, 3))\n",
    "a"
   ]
  },
  {
   "cell_type": "markdown",
   "metadata": {},
   "source": [
    "Для создания последовательностей чисел, в NumPy имеется функция arange(), аналогичная встроенной в Python range(), только вместо списков она возвращает массивы, и принимает не только целые значения:"
   ]
  },
  {
   "cell_type": "code",
   "execution_count": 9,
   "metadata": {},
   "outputs": [
    {
     "data": {
      "text/plain": [
       "array([10, 15, 20, 25])"
      ]
     },
     "execution_count": 9,
     "metadata": {},
     "output_type": "execute_result"
    }
   ],
   "source": [
    "a = np.arange(10, 30, 5)\n",
    "a"
   ]
  },
  {
   "cell_type": "code",
   "execution_count": 10,
   "metadata": {},
   "outputs": [
    {
     "data": {
      "text/plain": [
       "array([0. , 0.1, 0.2, 0.3, 0.4, 0.5, 0.6, 0.7, 0.8, 0.9])"
      ]
     },
     "execution_count": 10,
     "metadata": {},
     "output_type": "execute_result"
    }
   ],
   "source": [
    "a = np.arange(0, 1, 0.1)\n",
    "a"
   ]
  },
  {
   "cell_type": "markdown",
   "metadata": {},
   "source": [
    "Вообще, при использовании arange() с аргументами типа float, сложно быть уверенным в том, сколько элементов будет получено (из-за ограничения точности чисел с плавающей запятой). Поэтому, в таких случаях обычно лучше использовать функцию linspace(), которая вместо шага в качестве одного из аргументов принимает число, равное количеству нужных элементов:"
   ]
  },
  {
   "cell_type": "code",
   "execution_count": 11,
   "metadata": {},
   "outputs": [
    {
     "data": {
      "text/plain": [
       "array([0.  , 0.25, 0.5 , 0.75, 1.  , 1.25, 1.5 , 1.75, 2.  ])"
      ]
     },
     "execution_count": 11,
     "metadata": {},
     "output_type": "execute_result"
    }
   ],
   "source": [
    "a = np.linspace(0, 2, 9)  # 9 чисел от 0 до 2 включительно\n",
    "a"
   ]
  },
  {
   "cell_type": "markdown",
   "metadata": {},
   "source": [
    "# Изменение формы массивов"
   ]
  },
  {
   "cell_type": "markdown",
   "metadata": {},
   "source": [
    "Предположим, у нас имеется массив, состоящий из десяти чисел: "
   ]
  },
  {
   "cell_type": "code",
   "execution_count": 12,
   "metadata": {},
   "outputs": [
    {
     "data": {
      "text/plain": [
       "array([0, 1, 2, 3, 4, 5, 6, 7, 8, 9])"
      ]
     },
     "execution_count": 12,
     "metadata": {},
     "output_type": "execute_result"
    }
   ],
   "source": [
    "a = np.arange(10)\n",
    "a"
   ]
  },
  {
   "cell_type": "markdown",
   "metadata": {},
   "source": [
    "Для изменения формы этого массива, достаточно указать свойству shape кортеж с новыми размерами, например, так: "
   ]
  },
  {
   "cell_type": "code",
   "execution_count": 13,
   "metadata": {},
   "outputs": [
    {
     "data": {
      "text/plain": [
       "array([[0, 1, 2, 3, 4],\n",
       "       [5, 6, 7, 8, 9]])"
      ]
     },
     "execution_count": 13,
     "metadata": {},
     "output_type": "execute_result"
    }
   ],
   "source": [
    "a.shape = 2, 5\n",
    "a"
   ]
  },
  {
   "cell_type": "markdown",
   "metadata": {},
   "source": [
    "В результате изменится представление массива, на которое ссылается переменная a. Если же требуется создать новое представление массива, сохранив прежнее, то следует воспользоваться методом reshape(): "
   ]
  },
  {
   "cell_type": "markdown",
   "metadata": {},
   "source": [
    "b = a.reshape(10)\n",
    "b"
   ]
  },
  {
   "cell_type": "markdown",
   "metadata": {},
   "source": [
    "Cсылки b и a будут использовать одни и те же данные, то есть, изменение массива через b: "
   ]
  },
  {
   "cell_type": "code",
   "execution_count": 14,
   "metadata": {},
   "outputs": [],
   "source": [
    "b[0] = -1 # приведет к изменению соответствующего элемента массива a: "
   ]
  },
  {
   "cell_type": "markdown",
   "metadata": {},
   "source": [
    "У свойства shape и метода reshape() размерность должна охватывать все элементы массива. Например, вот такая команда: "
   ]
  },
  {
   "cell_type": "code",
   "execution_count": 15,
   "metadata": {},
   "outputs": [
    {
     "ename": "ValueError",
     "evalue": "cannot reshape array of size 10 into shape (3,3)",
     "output_type": "error",
     "traceback": [
      "\u001b[0;31m---------------------------------------------------------------------------\u001b[0m",
      "\u001b[0;31mValueError\u001b[0m                                Traceback (most recent call last)",
      "\u001b[0;32m/tmp/ipykernel_4800/2444272619.py\u001b[0m in \u001b[0;36m<module>\u001b[0;34m\u001b[0m\n\u001b[0;32m----> 1\u001b[0;31m \u001b[0ma\u001b[0m\u001b[0;34m.\u001b[0m\u001b[0mshape\u001b[0m \u001b[0;34m=\u001b[0m \u001b[0;36m3\u001b[0m\u001b[0;34m,\u001b[0m \u001b[0;36m3\u001b[0m\u001b[0;34m\u001b[0m\u001b[0;34m\u001b[0m\u001b[0m\n\u001b[0m",
      "\u001b[0;31mValueError\u001b[0m: cannot reshape array of size 10 into shape (3,3)"
     ]
    }
   ],
   "source": [
    "a.shape = 3, 3"
   ]
  },
  {
   "cell_type": "markdown",
   "metadata": {},
   "source": [
    "приведет к ошибке, т.к. размерность 3x3 = 9 элементов, а в массиве 10 элементов. Здесь всегда должно выполняться равенство:\n",
    "\n",
    "n1 x n2 x … x nN = число элементов массива "
   ]
  },
  {
   "cell_type": "markdown",
   "metadata": {},
   "source": [
    "Но допускается делать так: "
   ]
  },
  {
   "cell_type": "code",
   "execution_count": 16,
   "metadata": {},
   "outputs": [
    {
     "data": {
      "text/plain": [
       "array([[0, 1],\n",
       "       [2, 3],\n",
       "       [4, 5],\n",
       "       [6, 7],\n",
       "       [8, 9]])"
      ]
     },
     "execution_count": 16,
     "metadata": {},
     "output_type": "execute_result"
    }
   ],
   "source": [
    "a.shape = -1, 2\n",
    "a"
   ]
  },
  {
   "cell_type": "markdown",
   "metadata": {},
   "source": [
    "Отрицательное значение -1 означает автоматическое вычисление размерности по первой оси. По второй берется значение 2. В этом случае получим размерность 5x2.\n",
    "\n",
    "То же самое можно делать и в методе reshape(): "
   ]
  },
  {
   "cell_type": "code",
   "execution_count": 18,
   "metadata": {},
   "outputs": [
    {
     "name": "stdout",
     "output_type": "stream",
     "text": [
      "[[-1.+0.j -1.+0.j -1.+0.j]\n",
      " [ 4.+0.j  5.+0.j  6.+0.j]]\n",
      "[[-1.+0.j -1.+0.j -1.+0.j]\n",
      " [ 4.+0.j  5.+0.j  6.+0.j]]\n"
     ]
    }
   ],
   "source": [
    "b.reshape(-1, 1)\n",
    "print(b)\n",
    "b.reshape(1, -1)\n",
    "print(b)"
   ]
  },
  {
   "cell_type": "markdown",
   "metadata": {},
   "source": [
    "Используя отрицательный индекс, можно делать и такие преобразования: "
   ]
  },
  {
   "cell_type": "code",
   "execution_count": 19,
   "metadata": {},
   "outputs": [
    {
     "name": "stdout",
     "output_type": "stream",
     "text": [
      "[[-1.+0.j -1.+0.j -1.+0.j]\n",
      " [ 4.+0.j  5.+0.j  6.+0.j]]\n",
      "[[-1.+0.j -1.+0.j -1.+0.j]\n",
      " [ 4.+0.j  5.+0.j  6.+0.j]]\n"
     ]
    }
   ],
   "source": [
    "b.reshape(2, -1)\n",
    "print(b)\n",
    "b.reshape(-1, 2)\n",
    "print(b)"
   ]
  },
  {
   "cell_type": "markdown",
   "metadata": {},
   "source": [
    "Если нам требуется многомерный массив преобразовать в обычный одномерный, то можно воспользоваться методом ravel(), который возвращает новое представление, не меняя текущего: "
   ]
  },
  {
   "cell_type": "code",
   "execution_count": 20,
   "metadata": {},
   "outputs": [
    {
     "data": {
      "text/plain": [
       "array([-1.+0.j, -1.+0.j, -1.+0.j,  4.+0.j,  5.+0.j,  6.+0.j])"
      ]
     },
     "execution_count": 20,
     "metadata": {},
     "output_type": "execute_result"
    }
   ],
   "source": [
    "c = b.ravel() # с ссылается на одномерное представление массива\n",
    "c"
   ]
  },
  {
   "cell_type": "markdown",
   "metadata": {},
   "source": [
    "Если же нам нужно текущий массив преобразовать в одномерный, то это можно сделать так: "
   ]
  },
  {
   "cell_type": "code",
   "execution_count": 22,
   "metadata": {},
   "outputs": [
    {
     "data": {
      "text/plain": [
       "array([-1.+0.j, -1.+0.j, -1.+0.j,  4.+0.j,  5.+0.j,  6.+0.j])"
      ]
     },
     "execution_count": 22,
     "metadata": {},
     "output_type": "execute_result"
    }
   ],
   "source": [
    "b.shape = -1\n",
    "b"
   ]
  },
  {
   "cell_type": "markdown",
   "metadata": {},
   "source": [
    "Помимо свойства shape можно использовать метод resize, который выполняет подобную операцию с текущим массивом. Например: "
   ]
  },
  {
   "cell_type": "code",
   "execution_count": 23,
   "metadata": {},
   "outputs": [],
   "source": [
    "a.resize(2, 5) # массив 2x5"
   ]
  },
  {
   "cell_type": "code",
   "execution_count": null,
   "metadata": {},
   "outputs": [],
   "source": []
  },
  {
   "cell_type": "code",
   "execution_count": null,
   "metadata": {},
   "outputs": [],
   "source": []
  },
  {
   "cell_type": "code",
   "execution_count": null,
   "metadata": {},
   "outputs": [],
   "source": []
  },
  {
   "cell_type": "markdown",
   "metadata": {},
   "source": [
    "Но, как мы уже говорили, вот такая строчка приведет к ошибке: "
   ]
  },
  {
   "cell_type": "code",
   "execution_count": 24,
   "metadata": {},
   "outputs": [
    {
     "ename": "ValueError",
     "evalue": "cannot resize an array that references or is referenced\nby another array in this way.\nUse the np.resize function or refcheck=False",
     "output_type": "error",
     "traceback": [
      "\u001b[0;31m---------------------------------------------------------------------------\u001b[0m",
      "\u001b[0;31mValueError\u001b[0m                                Traceback (most recent call last)",
      "\u001b[0;32m/tmp/ipykernel_4800/4058682236.py\u001b[0m in \u001b[0;36m<module>\u001b[0;34m\u001b[0m\n\u001b[0;32m----> 1\u001b[0;31m \u001b[0ma\u001b[0m\u001b[0;34m.\u001b[0m\u001b[0mresize\u001b[0m\u001b[0;34m(\u001b[0m\u001b[0;36m3\u001b[0m\u001b[0;34m,\u001b[0m \u001b[0;36m3\u001b[0m\u001b[0;34m)\u001b[0m  \u001b[0;31m# ошибка: 3x3 != 10\u001b[0m\u001b[0;34m\u001b[0m\u001b[0;34m\u001b[0m\u001b[0m\n\u001b[0m",
      "\u001b[0;31mValueError\u001b[0m: cannot resize an array that references or is referenced\nby another array in this way.\nUse the np.resize function or refcheck=False"
     ]
    }
   ],
   "source": [
    "a.resize(3, 3)  # ошибка: 3x3 != 10"
   ]
  },
  {
   "cell_type": "markdown",
   "metadata": {},
   "source": [
    "# Транспонирование матриц и векторов"
   ]
  },
  {
   "cell_type": "markdown",
   "metadata": {},
   "source": [
    "Очень часто в математических операциях требуется выполнять транспонирование матриц и векторов, то есть, заменять строки на столбцы. Например, если имеется матрица (двумерный массив): "
   ]
  },
  {
   "cell_type": "code",
   "execution_count": 25,
   "metadata": {},
   "outputs": [
    {
     "data": {
      "text/plain": [
       "array([[ 1,  2,  3],\n",
       "       [ 1,  4,  9],\n",
       "       [ 1,  8, 27]])"
      ]
     },
     "execution_count": 25,
     "metadata": {},
     "output_type": "execute_result"
    }
   ],
   "source": [
    "a = np.array([(1, 2, 3), (1, 4, 9), (1, 8, 27)])\n",
    "a"
   ]
  },
  {
   "cell_type": "markdown",
   "metadata": {},
   "source": [
    "то операция транспонирования может быть реализована так: "
   ]
  },
  {
   "cell_type": "code",
   "execution_count": 26,
   "metadata": {},
   "outputs": [
    {
     "data": {
      "text/plain": [
       "array([[ 1,  1,  1],\n",
       "       [ 2,  4,  8],\n",
       "       [ 3,  9, 27]])"
      ]
     },
     "execution_count": 26,
     "metadata": {},
     "output_type": "execute_result"
    }
   ],
   "source": [
    "b = a.T\n",
    "b"
   ]
  },
  {
   "cell_type": "markdown",
   "metadata": {},
   "source": [
    "Обратите внимание, мы здесь создаем лишь новое представление тех же самых данных массива a. И изменение элементов в массиве b: "
   ]
  },
  {
   "cell_type": "code",
   "execution_count": 29,
   "metadata": {},
   "outputs": [
    {
     "data": {
      "text/plain": [
       "array([[ 1,  2,  3],\n",
       "       [10,  4,  9],\n",
       "       [ 1,  8, 27]])"
      ]
     },
     "execution_count": 29,
     "metadata": {},
     "output_type": "execute_result"
    }
   ],
   "source": [
    "b[0, 1] = 10\n",
    "a \n"
   ]
  },
  {
   "cell_type": "markdown",
   "metadata": {},
   "source": [
    "приведет к соответствующему изменению значения элемента и массива a. Это следует помнить, используя операцию транспонирования.\n",
    "\n",
    "Транспонирование векторов работает несколько иначе. Предположим, имеется одномерный массив: "
   ]
  },
  {
   "cell_type": "code",
   "execution_count": 30,
   "metadata": {},
   "outputs": [
    {
     "data": {
      "text/plain": [
       "array([1, 2, 3, 4, 5, 6, 7, 8, 9])"
      ]
     },
     "execution_count": 30,
     "metadata": {},
     "output_type": "execute_result"
    }
   ],
   "source": [
    "x = np.arange(1, 10)\n",
    "x"
   ]
  },
  {
   "cell_type": "markdown",
   "metadata": {},
   "source": [
    "и мы выполняем операцию транспонирования: "
   ]
  },
  {
   "cell_type": "code",
   "execution_count": 31,
   "metadata": {},
   "outputs": [
    {
     "data": {
      "text/plain": [
       "array([1, 2, 3, 4, 5, 6, 7, 8, 9])"
      ]
     },
     "execution_count": 31,
     "metadata": {},
     "output_type": "execute_result"
    }
   ],
   "source": [
    "x.T\n",
    "x"
   ]
  },
  {
   "cell_type": "markdown",
   "metadata": {},
   "source": [
    "В результате ничего не изменилось: вектор как был строкой, так строкой и остался. Почему? Дело в том, что массив x имеет только одну размерность, поэтому здесь нет понятия строк и столбцов. Соответственно, операция транспонирования ни к чему не приводит. Чтобы получить ожидаемый эффект, нужно добавить к массиву еще одну ось, например, так: "
   ]
  },
  {
   "cell_type": "code",
   "execution_count": 32,
   "metadata": {},
   "outputs": [],
   "source": [
    "x.shape = 1, -1"
   ]
  },
  {
   "cell_type": "markdown",
   "metadata": {},
   "source": [
    "И теперь, при транспонировании получим вектор-столбец: "
   ]
  },
  {
   "cell_type": "code",
   "execution_count": 33,
   "metadata": {},
   "outputs": [
    {
     "name": "stdout",
     "output_type": "stream",
     "text": [
      "[[1]\n",
      " [2]\n",
      " [3]\n",
      " [4]\n",
      " [5]\n",
      " [6]\n",
      " [7]\n",
      " [8]\n",
      " [9]]\n",
      "[[1 2 3 4 5 6 7 8 9]]\n"
     ]
    }
   ],
   "source": [
    "print(x.T)\n",
    "print(x)"
   ]
  },
  {
   "cell_type": "markdown",
   "metadata": {},
   "source": [
    "# Операции с индексами"
   ]
  },
  {
   "cell_type": "markdown",
   "metadata": {},
   "source": [
    "Оперативная память компьютера линейна, и поэтому даже многомерные массивы, на самом деле являются некоторыми линейными структурами, над которыми существуют система индексов, говорящих как именно читать этот линейный блок. Проведение операций над индексами в большистве случаев эффективно и поэтому операции смены размерности массива или транспонирования выполняются быстро"
   ]
  },
  {
   "cell_type": "code",
   "execution_count": 38,
   "metadata": {},
   "outputs": [
    {
     "name": "stdout",
     "output_type": "stream",
     "text": [
      "[[1 3]\n",
      " [2 4]]\n"
     ]
    }
   ],
   "source": [
    "import numpy as np\n",
    "\n",
    "a = np.asarray([[1,2], [3,4]])\n",
    "b = a.T # Транспонированый массив\n",
    "print(b)"
   ]
  },
  {
   "cell_type": "code",
   "execution_count": 39,
   "metadata": {},
   "outputs": [
    {
     "name": "stdout",
     "output_type": "stream",
     "text": [
      "[[10  3]\n",
      " [ 2  4]]\n"
     ]
    }
   ],
   "source": [
    "b[0,0] = 10\n",
    "print(b)"
   ]
  },
  {
   "cell_type": "code",
   "execution_count": 40,
   "metadata": {},
   "outputs": [
    {
     "name": "stdout",
     "output_type": "stream",
     "text": [
      "[[10  2]\n",
      " [ 3  4]]\n"
     ]
    }
   ],
   "source": [
    "print(a)"
   ]
  },
  {
   "cell_type": "code",
   "execution_count": 41,
   "metadata": {},
   "outputs": [
    {
     "data": {
      "text/plain": [
       "array([[11,  3],\n",
       "       [ 2,  4]])"
      ]
     },
     "execution_count": 41,
     "metadata": {},
     "output_type": "execute_result"
    }
   ],
   "source": [
    "b[0][0] = 11\n",
    "b"
   ]
  },
  {
   "cell_type": "markdown",
   "metadata": {},
   "source": [
    "Как мы видим при изменени переменной b изменилась переменная a. Это произошло потому, что обе эти переменные использубют один и тот же кусок памяти, но по разному."
   ]
  },
  {
   "cell_type": "markdown",
   "metadata": {},
   "source": [
    "# Добавление и удаление осей"
   ]
  },
  {
   "cell_type": "markdown",
   "metadata": {},
   "source": [
    "Часто при работе с массивами NumPy требуется добавлять новые оси измерений и удалять существующие. Есть множество способов выполнять эти операции, но мы рассмотрим два наиболее распространенных с помощью функций:\n",
    "\n",
    "    np.expand_dims(a, axis) – добавление новой оси;\n",
    "    np.squeeze(a[, axis]) – удаление оси (без удаления элементов). \n",
    "\n",
    "Давайте предположим, что у нас имеется некий многомерный массив: "
   ]
  },
  {
   "cell_type": "code",
   "execution_count": 42,
   "metadata": {},
   "outputs": [],
   "source": [
    "x_test = np.arange(32).reshape(8, 2, 2) # массив 8x2x2"
   ]
  },
  {
   "cell_type": "markdown",
   "metadata": {},
   "source": [
    "И нам потребовалось добавить еще одно измерение (ось), причем, в самое начало, то есть, ось axis0. Сейчас на этой оси 8 элементов – матриц 2x2, но мы хотим сделать четырехмерный массив, сохранив остальные три оси и их данные без изменений. Как раз это достаточно просто сделать с помощью функции expand_dims, следующим образом: "
   ]
  },
  {
   "cell_type": "code",
   "execution_count": 43,
   "metadata": {},
   "outputs": [],
   "source": [
    "x_test4 = np.expand_dims(x_test, axis=0)"
   ]
  },
  {
   "cell_type": "markdown",
   "metadata": {},
   "source": [
    "Обращаясь к свойству shape: "
   ]
  },
  {
   "cell_type": "markdown",
   "metadata": {},
   "source": [
    "x_test4.shape"
   ]
  },
  {
   "cell_type": "markdown",
   "metadata": {},
   "source": [
    "Видим, что массив стал четырехмерным и первая добавленная ось axis0 содержит один элемент – трехмерный массив 8x2x2. При необходимости, мы всегда можем добавить новый элемент на эту ось: "
   ]
  },
  {
   "cell_type": "code",
   "execution_count": 44,
   "metadata": {},
   "outputs": [
    {
     "data": {
      "text/plain": [
       "array([[[[ 0,  1],\n",
       "         [ 2,  3]],\n",
       "\n",
       "        [[ 4,  5],\n",
       "         [ 6,  7]],\n",
       "\n",
       "        [[ 8,  9],\n",
       "         [10, 11]],\n",
       "\n",
       "        [[12, 13],\n",
       "         [14, 15]],\n",
       "\n",
       "        [[16, 17],\n",
       "         [18, 19]],\n",
       "\n",
       "        [[20, 21],\n",
       "         [22, 23]],\n",
       "\n",
       "        [[24, 25],\n",
       "         [26, 27]],\n",
       "\n",
       "        [[28, 29],\n",
       "         [30, 31]]],\n",
       "\n",
       "\n",
       "       [[[ 0,  1],\n",
       "         [ 2,  3]],\n",
       "\n",
       "        [[ 4,  5],\n",
       "         [ 6,  7]],\n",
       "\n",
       "        [[ 8,  9],\n",
       "         [10, 11]],\n",
       "\n",
       "        [[12, 13],\n",
       "         [14, 15]],\n",
       "\n",
       "        [[16, 17],\n",
       "         [18, 19]],\n",
       "\n",
       "        [[20, 21],\n",
       "         [22, 23]],\n",
       "\n",
       "        [[24, 25],\n",
       "         [26, 27]],\n",
       "\n",
       "        [[28, 29],\n",
       "         [30, 31]]]])"
      ]
     },
     "execution_count": 44,
     "metadata": {},
     "output_type": "execute_result"
    }
   ],
   "source": [
    "a = np.append(x_test4, x_test4, axis=0) # размерность (2, 8, 2, 2)\n",
    "a"
   ]
  },
  {
   "cell_type": "markdown",
   "metadata": {},
   "source": [
    "или удалить ненужные элементы: "
   ]
  },
  {
   "cell_type": "code",
   "execution_count": 45,
   "metadata": {},
   "outputs": [
    {
     "data": {
      "text/plain": [
       "array([[[[ 0,  1],\n",
       "         [ 2,  3]],\n",
       "\n",
       "        [[ 4,  5],\n",
       "         [ 6,  7]],\n",
       "\n",
       "        [[ 8,  9],\n",
       "         [10, 11]],\n",
       "\n",
       "        [[12, 13],\n",
       "         [14, 15]],\n",
       "\n",
       "        [[16, 17],\n",
       "         [18, 19]],\n",
       "\n",
       "        [[20, 21],\n",
       "         [22, 23]],\n",
       "\n",
       "        [[24, 25],\n",
       "         [26, 27]],\n",
       "\n",
       "        [[28, 29],\n",
       "         [30, 31]]]])"
      ]
     },
     "execution_count": 45,
     "metadata": {},
     "output_type": "execute_result"
    }
   ],
   "source": [
    "b = np.delete(a, 0, axis=0) # размерность (1, 8, 2, 2)\n",
    "b"
   ]
  },
  {
   "cell_type": "markdown",
   "metadata": {},
   "source": [
    "Здесь второй параметр 0 – индекс удаляемого элемента на оси axis0.\n",
    "\n",
    "Если нам нужно добавить последнюю ось в массиве, то для этого можно записать такую команду: "
   ]
  },
  {
   "cell_type": "code",
   "execution_count": 46,
   "metadata": {},
   "outputs": [],
   "source": [
    "b = np.expand_dims(x_test4, axis=-1) # размерность (1, 8, 2, 2, 1)"
   ]
  },
  {
   "cell_type": "markdown",
   "metadata": {},
   "source": [
    "Отрицательный индекс -1 – это следующая с конца ось. Если указать индекс -2, то добавится предпоследняя ось и так далее. Отрицательные индексы очень удобно использовать при работе с массивами произвольных размерностей.\n",
    "\n",
    "Следующая функция squeeze позволяет удалить все оси с одним элементом. Например, строчка: "
   ]
  },
  {
   "cell_type": "code",
   "execution_count": 47,
   "metadata": {},
   "outputs": [
    {
     "data": {
      "text/plain": [
       "array([[[ 0,  1],\n",
       "        [ 2,  3]],\n",
       "\n",
       "       [[ 4,  5],\n",
       "        [ 6,  7]],\n",
       "\n",
       "       [[ 8,  9],\n",
       "        [10, 11]],\n",
       "\n",
       "       [[12, 13],\n",
       "        [14, 15]],\n",
       "\n",
       "       [[16, 17],\n",
       "        [18, 19]],\n",
       "\n",
       "       [[20, 21],\n",
       "        [22, 23]],\n",
       "\n",
       "       [[24, 25],\n",
       "        [26, 27]],\n",
       "\n",
       "       [[28, 29],\n",
       "        [30, 31]]])"
      ]
     },
     "execution_count": 47,
     "metadata": {},
     "output_type": "execute_result"
    }
   ],
   "source": [
    "c = np.squeeze(b) # размерность (8, 2, 2)\n",
    "c"
   ]
  },
  {
   "cell_type": "markdown",
   "metadata": {},
   "source": [
    "превращает массив размерностью (1, 8, 2, 2) в массив размерностью (8, 2, 2). При необходимости, дополнительно мы можем самостоятельно указать оси, которые следует удалять, например, так: "
   ]
  },
  {
   "cell_type": "code",
   "execution_count": 48,
   "metadata": {},
   "outputs": [],
   "source": [
    "c = np.squeeze(b, axis=0) # удалит только ось axis0, не затронув другие"
   ]
  },
  {
   "cell_type": "markdown",
   "metadata": {},
   "source": [
    "Но, если указать ось с числом элементов больше 1, то возникнет ошибка: "
   ]
  },
  {
   "cell_type": "code",
   "execution_count": 49,
   "metadata": {},
   "outputs": [
    {
     "ename": "ValueError",
     "evalue": "cannot select an axis to squeeze out which has size not equal to one",
     "output_type": "error",
     "traceback": [
      "\u001b[0;31m---------------------------------------------------------------------------\u001b[0m",
      "\u001b[0;31mValueError\u001b[0m                                Traceback (most recent call last)",
      "\u001b[0;32m/tmp/ipykernel_4800/129786531.py\u001b[0m in \u001b[0;36m<module>\u001b[0;34m\u001b[0m\n\u001b[0;32m----> 1\u001b[0;31m \u001b[0mc\u001b[0m \u001b[0;34m=\u001b[0m \u001b[0mnp\u001b[0m\u001b[0;34m.\u001b[0m\u001b[0msqueeze\u001b[0m\u001b[0;34m(\u001b[0m\u001b[0mb\u001b[0m\u001b[0;34m,\u001b[0m \u001b[0maxis\u001b[0m\u001b[0;34m=\u001b[0m\u001b[0;36m1\u001b[0m\u001b[0;34m)\u001b[0m \u001b[0;31m# ошибка, на оси axis1 8 элементов\u001b[0m\u001b[0;34m\u001b[0m\u001b[0;34m\u001b[0m\u001b[0m\n\u001b[0m",
      "\u001b[0;32m<__array_function__ internals>\u001b[0m in \u001b[0;36msqueeze\u001b[0;34m(*args, **kwargs)\u001b[0m\n",
      "\u001b[0;32m/opt/rh/rh-python38/root/usr/local/lib64/python3.8/site-packages/numpy/core/fromnumeric.py\u001b[0m in \u001b[0;36msqueeze\u001b[0;34m(a, axis)\u001b[0m\n\u001b[1;32m   1506\u001b[0m         \u001b[0;32mreturn\u001b[0m \u001b[0msqueeze\u001b[0m\u001b[0;34m(\u001b[0m\u001b[0;34m)\u001b[0m\u001b[0;34m\u001b[0m\u001b[0;34m\u001b[0m\u001b[0m\n\u001b[1;32m   1507\u001b[0m     \u001b[0;32melse\u001b[0m\u001b[0;34m:\u001b[0m\u001b[0;34m\u001b[0m\u001b[0;34m\u001b[0m\u001b[0m\n\u001b[0;32m-> 1508\u001b[0;31m         \u001b[0;32mreturn\u001b[0m \u001b[0msqueeze\u001b[0m\u001b[0;34m(\u001b[0m\u001b[0maxis\u001b[0m\u001b[0;34m=\u001b[0m\u001b[0maxis\u001b[0m\u001b[0;34m)\u001b[0m\u001b[0;34m\u001b[0m\u001b[0;34m\u001b[0m\u001b[0m\n\u001b[0m\u001b[1;32m   1509\u001b[0m \u001b[0;34m\u001b[0m\u001b[0m\n\u001b[1;32m   1510\u001b[0m \u001b[0;34m\u001b[0m\u001b[0m\n",
      "\u001b[0;31mValueError\u001b[0m: cannot select an axis to squeeze out which has size not equal to one"
     ]
    }
   ],
   "source": [
    "c = np.squeeze(b, axis=1) # ошибка, на оси axis1 8 элементов"
   ]
  },
  {
   "cell_type": "markdown",
   "metadata": {},
   "source": [
    "В NumPy добавлять новые оси иногда удобнее с помощью специального объекта np.newaxis. Например, пусть у нас есть одномерный массив: "
   ]
  },
  {
   "cell_type": "code",
   "execution_count": 50,
   "metadata": {},
   "outputs": [
    {
     "data": {
      "text/plain": [
       "array([1, 2, 3, 4, 5, 6, 7, 8, 9])"
      ]
     },
     "execution_count": 50,
     "metadata": {},
     "output_type": "execute_result"
    }
   ],
   "source": [
    "a = np.arange(1, 10)\n",
    "a"
   ]
  },
  {
   "cell_type": "markdown",
   "metadata": {},
   "source": [
    "У него одна ось – одно измерение. Добавим еще одну ось, допустим, в начало. С помощью объекта np.newaxis это можно сделать так: "
   ]
  },
  {
   "cell_type": "code",
   "execution_count": null,
   "metadata": {},
   "outputs": [],
   "source": [
    "b = a[np.newaxis, :] # добавление оси axis0\n",
    "print(b)\n",
    "b.shape # (1, 9)"
   ]
  },
  {
   "cell_type": "markdown",
   "metadata": {},
   "source": [
    "Или, можно прописать сразу две оси: "
   ]
  },
  {
   "cell_type": "code",
   "execution_count": null,
   "metadata": {},
   "outputs": [],
   "source": [
    "c = a[np.newaxis, :, np.newaxis]\n",
    "print(c)\n",
    "c.shape # (1, 9, 1)"
   ]
  },
  {
   "cell_type": "markdown",
   "metadata": {},
   "source": [
    "# Базовые математические операции над массивами"
   ]
  },
  {
   "cell_type": "markdown",
   "metadata": {},
   "source": [
    "Предположим, имеется обычный список и массив, созданный на его основе:"
   ]
  },
  {
   "cell_type": "code",
   "execution_count": 55,
   "metadata": {},
   "outputs": [],
   "source": [
    "lst = [1, 2, 3]\n",
    "a = np.array([1, 2, 3])"
   ]
  },
  {
   "cell_type": "markdown",
   "metadata": {},
   "source": [
    "Сейчас вы увидите принципиальную разницу между двумя этими объектами. Умножим их на число 2: "
   ]
  },
  {
   "cell_type": "code",
   "execution_count": 56,
   "metadata": {},
   "outputs": [
    {
     "name": "stdout",
     "output_type": "stream",
     "text": [
      "[1 2 3] [1, 2, 3]\n"
     ]
    }
   ],
   "source": [
    "lst*2\n",
    "a*2\n",
    "print(a, lst)"
   ]
  },
  {
   "cell_type": "markdown",
   "metadata": {},
   "source": [
    "Видите, при умножении списка языка Python, он дублируется дважды, а при умножении на NumPy массив – каждый его элемент умножается математически на число 2. Если бы мы захотели то же самое реализовать непосредственно на Python, оперируя списками, то пришлось бы делать что-то вроде:"
   ]
  },
  {
   "cell_type": "code",
   "execution_count": null,
   "metadata": {},
   "outputs": [],
   "source": [
    "[x*2 for x in lst]"
   ]
  },
  {
   "cell_type": "markdown",
   "metadata": {},
   "source": [
    "Но выполнялась бы такая конструкция дольше, чем в случае с массивом NumPy. Именно благодаря удобству и скорости библиотека NumPy и приобрела свою популярность."
   ]
  },
  {
   "cell_type": "markdown",
   "metadata": {},
   "source": [
    "Пусть у нас задан тот же одномерный массив: "
   ]
  },
  {
   "cell_type": "code",
   "execution_count": 57,
   "metadata": {},
   "outputs": [],
   "source": [
    "a = np.array([1, 2, 3])"
   ]
  },
  {
   "cell_type": "markdown",
   "metadata": {},
   "source": [
    "Все указанные в таблице операции выполняются следующим образом: "
   ]
  },
  {
   "cell_type": "code",
   "execution_count": 58,
   "metadata": {},
   "outputs": [
    {
     "name": "stdout",
     "output_type": "stream",
     "text": [
      "[-1 -2 -3]\n",
      "[3 4 5]\n",
      "[3 4 5]\n",
      "[-2 -1  0]\n",
      "[ 5 10 15]\n",
      "[0.2 0.4 0.6]\n",
      "[0 1 1]\n",
      "[ 1  8 27]\n",
      "[1 0 1]\n"
     ]
    }
   ],
   "source": [
    "print(-a) # унарный минус\n",
    "print(a + 2) # сложение с числом\n",
    "print(2 + a)  # так тоже можно записывать\n",
    "print(a - 3) # вычитание с числом\n",
    "print(a * 5) # умножение на число\n",
    "print(a / 5)  # деление на число\n",
    "print(a // 2)  # целочисленное деление\n",
    "print(a ** 3)  # возведение в степень 3\n",
    "print(a % 2)  # вычисление по модулю 2"
   ]
  },
  {
   "cell_type": "markdown",
   "metadata": {},
   "source": [
    "Приоритеты этих операций такие же, что и при обычных математических вычислениях. А на выходе мы получаем новый массив с соответствующими значениями.\n",
    "\n",
    "Давайте теперь добавим еще один массив: "
   ]
  },
  {
   "cell_type": "code",
   "execution_count": 59,
   "metadata": {},
   "outputs": [],
   "source": [
    "b = np.array([3, 4, 5])"
   ]
  },
  {
   "cell_type": "markdown",
   "metadata": {},
   "source": [
    "и посмотрим на эти же операции, но с участием двух массивов:"
   ]
  },
  {
   "cell_type": "code",
   "execution_count": 60,
   "metadata": {},
   "outputs": [
    {
     "name": "stdout",
     "output_type": "stream",
     "text": [
      "[-2 -2 -2]\n",
      "[4 6 8]\n",
      "[ 3  8 15]\n",
      "[3.         2.         1.66666667]\n",
      "[3 2 1]\n",
      "[  3  16 125]\n",
      "[0 0 2]\n"
     ]
    }
   ],
   "source": [
    "print(a - b)\n",
    "print(b + a)\n",
    "print(a * b)\n",
    "print(b / a)\n",
    "print(b // a)\n",
    "print(b ** a)\n",
    "print(b % a)"
   ]
  },
  {
   "cell_type": "markdown",
   "metadata": {},
   "source": [
    "Везде мы видим поэлементные операции. Соответственно, чтобы они выполнялись, массивы должны быть согласованы по длине. Например, если взять массив: "
   ]
  },
  {
   "cell_type": "code",
   "execution_count": 62,
   "metadata": {},
   "outputs": [],
   "source": [
    "b = np.array([3, 4, 5, 6])"
   ]
  },
  {
   "cell_type": "markdown",
   "metadata": {},
   "source": [
    "и выполнить операцию: "
   ]
  },
  {
   "cell_type": "code",
   "execution_count": 63,
   "metadata": {},
   "outputs": [
    {
     "ename": "ValueError",
     "evalue": "operands could not be broadcast together with shapes (3,) (4,) ",
     "output_type": "error",
     "traceback": [
      "\u001b[0;31m---------------------------------------------------------------------------\u001b[0m",
      "\u001b[0;31mValueError\u001b[0m                                Traceback (most recent call last)",
      "\u001b[0;32m/tmp/ipykernel_4800/557321716.py\u001b[0m in \u001b[0;36m<module>\u001b[0;34m\u001b[0m\n\u001b[0;32m----> 1\u001b[0;31m \u001b[0ma\u001b[0m \u001b[0;34m+\u001b[0m \u001b[0mb\u001b[0m  \u001b[0;31m# ошибка: длины массивов не совпадают\u001b[0m\u001b[0;34m\u001b[0m\u001b[0;34m\u001b[0m\u001b[0m\n\u001b[0m",
      "\u001b[0;31mValueError\u001b[0m: operands could not be broadcast together with shapes (3,) (4,) "
     ]
    }
   ],
   "source": [
    "a + b  # ошибка: длины массивов не совпадают"
   ]
  },
  {
   "cell_type": "markdown",
   "metadata": {},
   "source": [
    "то возникнет ошибка из-за несовпадения длин массивов. Но вот такая операция с двумерным массивом b сработает: "
   ]
  },
  {
   "cell_type": "code",
   "execution_count": 64,
   "metadata": {},
   "outputs": [
    {
     "data": {
      "text/plain": [
       "array([[2, 4, 6],\n",
       "       [5, 7, 9]])"
      ]
     },
     "execution_count": 64,
     "metadata": {},
     "output_type": "execute_result"
    }
   ],
   "source": [
    "b = np.arange(1, 7)\n",
    "b.resize(2, 3)\n",
    "a + b"
   ]
  },
  {
   "cell_type": "markdown",
   "metadata": {},
   "source": [
    "В этом случае массив a будет применен к каждой строке массива b. Такое поведение получило название транслирование массивов."
   ]
  },
  {
   "cell_type": "markdown",
   "metadata": {},
   "source": [
    "Все рассмотренные операции можно распространить и на многомерные массивы, главное, чтобы они были согласованы по размерам. Я приведу два небольших примера, так как думаю, общий принцип здесь понятен. Пусть у нас трехмерный и двумерный массивы: "
   ]
  },
  {
   "cell_type": "code",
   "execution_count": 65,
   "metadata": {},
   "outputs": [],
   "source": [
    "a = np.arange(1, 19)\n",
    "a.resize(3, 3, 2)\n",
    "b = np.ones((3, 2))"
   ]
  },
  {
   "cell_type": "markdown",
   "metadata": {},
   "source": [
    "С ними можно выполнять такие операции:"
   ]
  },
  {
   "cell_type": "code",
   "execution_count": 66,
   "metadata": {},
   "outputs": [
    {
     "name": "stdout",
     "output_type": "stream",
     "text": [
      "[[[ 0.  1.]\n",
      "  [ 2.  3.]\n",
      "  [ 4.  5.]]\n",
      "\n",
      " [[ 6.  7.]\n",
      "  [ 8.  9.]\n",
      "  [10. 11.]]\n",
      "\n",
      " [[12. 13.]\n",
      "  [14. 15.]\n",
      "  [16. 17.]]]\n",
      "[[[ 10  20]\n",
      "  [ 30  40]\n",
      "  [ 50  60]]\n",
      "\n",
      " [[ 70  80]\n",
      "  [ 90 100]\n",
      "  [110 120]]\n",
      "\n",
      " [[130 140]\n",
      "  [150 160]\n",
      "  [170 180]]]\n",
      "[[[ 1.  2.]\n",
      "  [ 3.  4.]\n",
      "  [ 5.  6.]]\n",
      "\n",
      " [[ 7.  8.]\n",
      "  [ 9. 10.]\n",
      "  [11. 12.]]\n",
      "\n",
      " [[13. 14.]\n",
      "  [15. 16.]\n",
      "  [17. 18.]]]\n"
     ]
    }
   ],
   "source": [
    "print(a - b)\n",
    "print(a * 10)\n",
    "print(a // b)"
   ]
  },
  {
   "cell_type": "markdown",
   "metadata": {},
   "source": [
    "Если нам нужно произвести какие-либо математические операции с массивом и изменения сохранить в нем же, то удобно использовать сокращенные записи."
   ]
  },
  {
   "cell_type": "code",
   "execution_count": 67,
   "metadata": {},
   "outputs": [],
   "source": [
    "a = np.array([1, 2, 6, 8])\n",
    "a += 5\n",
    "b = np.ones(4)\n",
    "b *= a"
   ]
  },
  {
   "cell_type": "markdown",
   "metadata": {},
   "source": [
    "# Элементы линейной алгебры"
   ]
  },
  {
   "cell_type": "markdown",
   "metadata": {},
   "source": [
    "**Упражнение 1**\n",
    "\n",
    "Создайте два вектора.\n",
    "\n",
    "Найдите в документации numpy функции **dot** и **inner** вычислите скалярное произведение векторов."
   ]
  },
  {
   "cell_type": "code",
   "execution_count": 70,
   "metadata": {},
   "outputs": [
    {
     "name": "stdout",
     "output_type": "stream",
     "text": [
      "24.700000000000003\n",
      "24.700000000000003\n"
     ]
    }
   ],
   "source": [
    "import numpy as np\n",
    "a = np.array([1, 2, 3])\n",
    "b = np.array([1.3, 5.4, 4.2])\n",
    "scal = np.dot(a, b)\n",
    "print(scal)\n",
    "scal = np.inner(a, b)\n",
    "print(scal)"
   ]
  },
  {
   "cell_type": "markdown",
   "metadata": {},
   "source": [
    "**Упражнение 2**\n",
    "\n",
    "Создайте две матрицы (двумерных массива).\n",
    "\n",
    "Найдите в документации numpy функции **dot** и **matmul** и с помощью этих функций вычислите произведение двух матриц.\n",
    "\n",
    "Создайте диагональную единичную матрицу и выполните умножение одной из предыдущих матриц на единичную матрицу."
   ]
  },
  {
   "cell_type": "code",
   "execution_count": 74,
   "metadata": {},
   "outputs": [
    {
     "name": "stdout",
     "output_type": "stream",
     "text": [
      "[[ 9.9 17.3 18.7]\n",
      " [17.7 34.4 36.6]]\n",
      "[[ 9.9 17.3 18.7]\n",
      " [17.7 34.4 36.6]]\n",
      "[[1. 2. 3.]\n",
      " [3. 5. 4.]]\n"
     ]
    }
   ],
   "source": [
    "a = np.array([[1, 2, 3], [3, 5, 4]])\n",
    "b = np.array([[1.3, 5.4, 4.2], [1, 1, 2], [2.2, 3.3, 3.5]])\n",
    "print(np.dot(a, b))\n",
    "print(np.matmul(a, b))\n",
    "print(np.dot(a, np.eye(3)))"
   ]
  },
  {
   "cell_type": "markdown",
   "metadata": {},
   "source": [
    "Вычисление нормы вектора:"
   ]
  },
  {
   "cell_type": "code",
   "execution_count": 75,
   "metadata": {},
   "outputs": [
    {
     "data": {
      "text/plain": [
       "10.14889156509222"
      ]
     },
     "execution_count": 75,
     "metadata": {},
     "output_type": "execute_result"
    }
   ],
   "source": [
    "b = np.array([0, 2, 3, 4, 5, 7])\n",
    "d = np.linalg.norm(b)\n",
    "d"
   ]
  },
  {
   "cell_type": "markdown",
   "metadata": {},
   "source": [
    "**Упражнение 3**\n",
    "\n",
    "Вычислите норму матрицы с помощью функции **np.linalg.norm**."
   ]
  },
  {
   "cell_type": "code",
   "execution_count": 76,
   "metadata": {},
   "outputs": [
    {
     "name": "stdout",
     "output_type": "stream",
     "text": [
      "8.0\n"
     ]
    }
   ],
   "source": [
    "a = np.array([[1, 2, 3], [3, 5, 4]])\n",
    "print(np.linalg.norm(a))"
   ]
  },
  {
   "cell_type": "markdown",
   "metadata": {},
   "source": [
    "**Упражнение 4**\n",
    "\n",
    "Вычислите косинус угла между векторами: $\\normalsize cos\\alpha = \\frac{a*b}{\\|a\\|*\\|b\\|}$"
   ]
  },
  {
   "cell_type": "code",
   "execution_count": 78,
   "metadata": {},
   "outputs": [
    {
     "name": "stdout",
     "output_type": "stream",
     "text": [
      "1.0\n"
     ]
    }
   ],
   "source": [
    "a = np.array([1, 2, 3])\n",
    "b = np.array([5, 6, 7])\n",
    "scal = np.dot(a, b)\n",
    "ma = np.linalg.norm(a)\n",
    "mb = np.linalg.norm(b)\n",
    "print(scal / (ma * mb))"
   ]
  },
  {
   "cell_type": "markdown",
   "metadata": {},
   "source": [
    "____________________________________________________________________________________________________________________\n",
    "Вычисление определителя матрицы:"
   ]
  },
  {
   "cell_type": "code",
   "execution_count": 79,
   "metadata": {},
   "outputs": [
    {
     "name": "stdout",
     "output_type": "stream",
     "text": [
      "[[-4 -1  2]\n",
      " [10  4 -1]\n",
      " [ 8  3  1]]\n",
      "-14.000000000000009\n"
     ]
    }
   ],
   "source": [
    "A = np.matrix('-4 -1 2; 10 4 -1; 8 3 1') # еще один способ для создания матрицы\n",
    "print(A)\n",
    "d = np.linalg.det(A)\n",
    "print(d)"
   ]
  },
  {
   "cell_type": "markdown",
   "metadata": {},
   "source": [
    "**Упражнение 5**\n",
    "\n",
    "Транспонируйте матрицу, вычислите определитель. Отличается ли определитель транспонированной матрицы от определителя исходной матрицы?\n",
    "\n",
    "Замените одну из строк матрицы на строку из нулей, вычислите определитель матрицы.\n",
    "\n",
    "Создайте матрицу, у которой две строки переставлены местами по сравнению с исходной матрицей, вычислите определитель новой матрицы.\n",
    "\n",
    "Создайте матрицу с двумя одинаковыми строками, вычислите ее определитель.\n",
    "\n",
    "Умножьте одну из строк исходной матрицы на число, вычислите определитель.\n",
    "\n",
    "Прибавьте к элементам одной строки прибавить элементы другой строки, умноженные на одно и тоже число, вычтслите определитель."
   ]
  },
  {
   "cell_type": "code",
   "execution_count": 131,
   "metadata": {},
   "outputs": [
    {
     "name": "stdout",
     "output_type": "stream",
     "text": [
      "-14.000000000000009 -13.999999999999996\n"
     ]
    }
   ],
   "source": [
    "a = np.matrix('-4 -1 2; 10 4 -1; 8 3 1')\n",
    "d = np.linalg.det(a)\n",
    "dT = np.linalg.det(a.T)\n",
    "print(d, dT)\n",
    "# На самом деле, определители равны, просто питон не очень точно посчитал"
   ]
  },
  {
   "cell_type": "code",
   "execution_count": 133,
   "metadata": {},
   "outputs": [
    {
     "name": "stdout",
     "output_type": "stream",
     "text": [
      "[[ 0  0  0]\n",
      " [10  4 -1]\n",
      " [ 8  3  1]]\n",
      "0.0\n"
     ]
    }
   ],
   "source": [
    "a1 = a\n",
    "a1.shape\n",
    "a1[0] = [0 , 0, 0]\n",
    "print(a1)\n",
    "print(np.linalg.det(a1))"
   ]
  },
  {
   "cell_type": "code",
   "execution_count": 134,
   "metadata": {},
   "outputs": [
    {
     "name": "stdout",
     "output_type": "stream",
     "text": [
      "14.000000000000009\n"
     ]
    }
   ],
   "source": [
    "a2 = np.matrix('10 4 -1; -4 -1 2; 8 3 1')\n",
    "print(np.linalg.det(a2))"
   ]
  },
  {
   "cell_type": "code",
   "execution_count": 135,
   "metadata": {
    "scrolled": true
   },
   "outputs": [
    {
     "name": "stdout",
     "output_type": "stream",
     "text": [
      "0.0\n"
     ]
    }
   ],
   "source": [
    "b = np.matrix('-4 -1 2; 8 3 1; 8 3 1')\n",
    "print(np.linalg.det(b))"
   ]
  },
  {
   "cell_type": "code",
   "execution_count": 143,
   "metadata": {},
   "outputs": [
    {
     "name": "stdout",
     "output_type": "stream",
     "text": [
      "-14.000000000000009\n",
      "-27.999999999999996\n"
     ]
    }
   ],
   "source": [
    "a = np.matrix('-4 -1 2; 10 4 -1; 8 3 1')\n",
    "print(np.linalg.det(a))\n",
    "a[2] = 2 * a[2]\n",
    "print(np.linalg.det(a))"
   ]
  },
  {
   "cell_type": "code",
   "execution_count": 142,
   "metadata": {},
   "outputs": [
    {
     "name": "stdout",
     "output_type": "stream",
     "text": [
      "[[-4 -1  2]\n",
      " [26 10  1]\n",
      " [ 8  3  1]]\n",
      "-14.000000000000009\n"
     ]
    }
   ],
   "source": [
    "a = np.matrix('-4 -1 2; 10 4 -1; 8 3 1')\n",
    "a[1] += 2 * a[2]\n",
    "print(a)\n",
    "print(np.linalg.det(a))"
   ]
  },
  {
   "cell_type": "markdown",
   "metadata": {},
   "source": [
    "# Построение графиков в matplotlib"
   ]
  },
  {
   "cell_type": "markdown",
   "metadata": {},
   "source": [
    "Построение графика по точкам:"
   ]
  },
  {
   "cell_type": "code",
   "execution_count": null,
   "metadata": {},
   "outputs": [],
   "source": [
    "import matplotlib.pyplot as plt\n",
    "plt.plot([1, 2, 3, 4, 5], [1, 2, 3, 4, 5])\n",
    "plt.show()"
   ]
  },
  {
   "cell_type": "markdown",
   "metadata": {},
   "source": [
    "Для начала построим линейную зависимость, дадим нашему графику название, подпишем оси и отобразим сетку:"
   ]
  },
  {
   "cell_type": "code",
   "execution_count": null,
   "metadata": {},
   "outputs": [],
   "source": [
    "import numpy as np\n",
    "# Независимая (x) и зависимая (y) переменные\n",
    "x = np.linspace(0, 10, 50)\n",
    "y = x\n",
    "\n",
    "# Построение графика\n",
    "plt.title(\"Линейная зависимость y = x\") # заголовок\n",
    "plt.xlabel(\"x\") # ось абсцисс\n",
    "plt.ylabel(\"y\") # ось ординат\n",
    "plt.grid()      # включение отображение сетки\n",
    "plt.plot(x, y)  # построение графика"
   ]
  },
  {
   "cell_type": "markdown",
   "metadata": {},
   "source": [
    "Изменим тип линии и ее цвет, для этого в функцию plot(), в качестве третьего параметра передадим строку, сформированную определенным образом, в нашем случае это “r–”, где “r” означает красный цвет, а “–” – тип линии – пунктирная линия."
   ]
  },
  {
   "cell_type": "code",
   "execution_count": null,
   "metadata": {},
   "outputs": [],
   "source": [
    "# Построение графика\n",
    "plt.title(\"Линейная зависимость y = x\") # заголовок\n",
    "plt.xlabel(\"x\") # ось абсцисс\n",
    "plt.ylabel(\"y\") # ось ординат\n",
    "plt.grid()      # включение отображение сетки\n",
    "plt.plot(x, y, \"r--\")  # построение графика"
   ]
  },
  {
   "cell_type": "markdown",
   "metadata": {},
   "source": [
    "**Несколько графиков на одном поле**\n",
    "\n",
    "Построим несколько графиков на одном поле, для этого добавим квадратичную зависимость:"
   ]
  },
  {
   "cell_type": "code",
   "execution_count": null,
   "metadata": {},
   "outputs": [],
   "source": [
    "# Линейная зависимость\n",
    "x = np.linspace(0, 10, 50)\n",
    "y1 = x\n",
    "# Квадратичная зависимость\n",
    "y2 = [i**2 for i in x]\n",
    "# Построение графика\n",
    "plt.title(\"Зависимости: y1 = x, y2 = x^2\") # заголовок\n",
    "plt.xlabel(\"x\")         # ось абсцисс\n",
    "plt.ylabel(\"y1, y2\")    # ось ординат\n",
    "plt.grid()              # включение отображение сетки\n",
    "plt.plot(x, y1, x, y2)  # построение графика"
   ]
  },
  {
   "cell_type": "markdown",
   "metadata": {},
   "source": [
    "В приведенном примере в функцию plot() последовательно передаются два массива для построения первого графика и два массива для построения второго, при этом, как вы можете заметить, для обоих графиков массив значений независимой переменной x один и то же."
   ]
  },
  {
   "cell_type": "markdown",
   "metadata": {},
   "source": [
    "**Несколько разделенных полей с графиками**\n",
    "\n",
    "Третья, довольно часто встречающаяся задача – это отобразить два или более различных поля, на которых будет отображено по одному или более графику.\n",
    "\n",
    "Построим уже известные нам две зависимость на разных полях."
   ]
  },
  {
   "cell_type": "code",
   "execution_count": null,
   "metadata": {},
   "outputs": [],
   "source": [
    "# Линейная зависимость\n",
    "x = np.linspace(0, 10, 50)\n",
    "y1 = x\n",
    "# Квадратичная зависимость\n",
    "y2 = [i**2 for i in x]\n",
    "# Построение графиков\n",
    "plt.figure(figsize=(9, 9))\n",
    "plt.subplot(2, 1, 1)\n",
    "plt.plot(x, y1)               # построение графика\n",
    "plt.title(\"Зависимости: y1 = x, y2 = x^2\") # заголовок\n",
    "plt.ylabel(\"y1\", fontsize=14) # ось ординат\n",
    "plt.grid(True)                # включение отображение сетки\n",
    "plt.subplot(2, 1, 2)\n",
    "plt.plot(x, y2)               # построение графика\n",
    "plt.xlabel(\"x\", fontsize=14)  # ось абсцисс\n",
    "plt.ylabel(\"y2\", fontsize=14) # ось ординат\n",
    "plt.grid(True)                # включение отображение сетки"
   ]
  },
  {
   "cell_type": "markdown",
   "metadata": {},
   "source": [
    "Здесь мы воспользовались новыми функциями: \n",
    "\n",
    "figure() – функция для задания глобальных параметров отображения графиков. В нее, в качестве аргумента, мы передаем кортеж, определяющий размер общего поля. \n",
    "\n",
    "subplot() – функция для задания местоположения поля с графиком. Существует несколько способов задания областей для вывода через функцию subplot() мы воспользовались следующим: первый аргумент – количество строк, второй – столбцов в формируемом поле, третий – индекс (номер поля, считаем сверху вниз, слева направо).\n",
    "\n",
    "Дополнительно мы использовали параметр fontsize для функций xlabel() и ylabel(), для задания размера шрифта."
   ]
  },
  {
   "cell_type": "markdown",
   "metadata": {},
   "source": [
    "**Точечная диаграмма (scatter plot)**"
   ]
  },
  {
   "cell_type": "code",
   "execution_count": null,
   "metadata": {},
   "outputs": [],
   "source": [
    "import numpy as np\n",
    "import matplotlib.pyplot as plt\n",
    "\n",
    "\n",
    "N = 50\n",
    "x = np.random.rand(N) # случайный вектор из 50 элементов\n",
    "print(\"x\", x)\n",
    "y = np.random.rand(N) # случайный вектор из 50 элементов\n",
    "print(\"y\", y)\n",
    "colors = np.random.rand(N) # случайный вектор из 50 элементов, чтобы задавать цвета каждой из точек\n",
    "area = (30 * np.random.rand(N))**2 # случайные площади каждой из точек\n",
    "\n",
    "plt.scatter(x, y, s=area, c=colors, alpha=0.5) # нанесение точек на диаграмму, x и y - координаты\n",
    "                                               # area - площади точек, colors - цвета точек\n",
    "                                               # alpha - значение прозрачности точек\n",
    "plt.show()"
   ]
  },
  {
   "cell_type": "markdown",
   "metadata": {},
   "source": [
    "**Пример с вычислением числа $\\pi$ с помощью метода Монте Карло и визуализация результатов**"
   ]
  },
  {
   "cell_type": "markdown",
   "metadata": {},
   "source": [
    "Переключим режим отображения графиков в notebook:"
   ]
  },
  {
   "cell_type": "code",
   "execution_count": null,
   "metadata": {},
   "outputs": [],
   "source": [
    "%matplotlib notebook"
   ]
  },
  {
   "cell_type": "code",
   "execution_count": null,
   "metadata": {},
   "outputs": [],
   "source": [
    "import matplotlib.pyplot as plt\n",
    "import numpy as np\n",
    "from matplotlib.axes import Axes\n",
    "from scipy.stats import norm\n",
    "\n",
    "class PiAnimation:\n",
    "    def __init__(self, ax: Axes, ax_pi: Axes, ax_gaus: Axes):\n",
    "        self.inner = 0\n",
    "        self.out = 0\n",
    "\n",
    "        self.xi, self.yi = [], []\n",
    "        self.xo, self.yo = [], []\n",
    "\n",
    "        ax.set_xlim(-1.0, 1.5)\n",
    "        ax.set_ylim(-1.0, 1.5)\n",
    "        ax.axis(\"off\")\n",
    "        ax.add_artist(plt.Circle((0.0, 0.0), 1, fill=False))\n",
    "        ax.add_artist(plt.Rectangle((-1, -1), 2, 2, fill=False))\n",
    "\n",
    "        self.line_i = ax.plot(self.xi, self.yi, \"ro\")[0]\n",
    "        self.line_o = ax.plot(self.xo, self.yo, \"bo\")[0]\n",
    "        self.text = ax.text(0.3, 1.1, \"\", fontdict={\"fontsize\": 32})\n",
    "        self.text_n = ax.text(-0.9, 1.1, \"\", fontdict={\"fontsize\": 32})\n",
    "\n",
    "        self.ax_pi = ax_pi\n",
    "        self.pi = []\n",
    "        self.pi_line = ax_pi.plot([], self.pi,\"-\")[0]\n",
    "        ax_pi.set_ylim(0, 2*np.pi)\n",
    "\n",
    "        self.ax_gaus = ax_gaus\n",
    "        self.gauss_point = np.linspace(0.5*np.pi, 1.5 * np.pi, 200)\n",
    "        self.gauss = ax_gaus.plot(self.gauss_point, np.zeros(200), \"\")[0]\n",
    "\n",
    "    def __call__(self, n):\n",
    "        x, y = 2*(np.random.random_sample(2) - 0.5)\n",
    "        if x ** 2 + y ** 2 <= 1:\n",
    "            self.inner += 1\n",
    "            self.xi.append(x)\n",
    "            self.yi.append(y)\n",
    "            self.line_i.set_data(self.xi, self.yi)\n",
    "        else:\n",
    "            self.out +=1\n",
    "            self.xo.append(x)\n",
    "            self.yo.append(y)\n",
    "            self.line_o.set_data(self.xo, self.yo)\n",
    "        N = self.inner + self.out\n",
    "        prob = self.inner/N\n",
    "        pi = 4*prob\n",
    "        self.pi.append(pi)\n",
    "        self.text.set_text(r\"$\\pi = {:.5}$\".format(pi))\n",
    "        self.text_n.set_text(\"N = {:5d}   \".format(N))\n",
    "\n",
    "        self.pi_line.set_data(range(N), self.pi)\n",
    "        self.ax_pi.relim()\n",
    "        self.ax_pi.autoscale()\n",
    "\n",
    "        mean, var = np.mean(self.pi), np.var(self.pi)\n",
    "\n",
    "        if N > 3:\n",
    "            self.gauss.set_data(self.gauss_point, norm.pdf(self.gauss_point, loc = mean, scale = var))\n",
    "            self.ax_gaus.relim()\n",
    "            self.ax_gaus.autoscale()\n",
    "        return self.line_i, self.line_o, self.text, self.text_n, self.pi_line, self.gauss"
   ]
  },
  {
   "cell_type": "code",
   "execution_count": null,
   "metadata": {},
   "outputs": [],
   "source": [
    "from matplotlib.animation import FuncAnimation\n",
    "\n",
    "\n",
    "fig = plt.figure(figsize=(14,7))\n",
    "ax1 = plt.subplot(121)\n",
    "ax2 = plt.subplot(222)\n",
    "ax3 = plt.subplot(224)\n",
    "pi_ani = PiAnimation(ax1, ax2, ax3)\n",
    "anim = FuncAnimation(fig, pi_ani, frames=10_000, interval=50, blit=True)\n",
    "plt.show()"
   ]
  },
  {
   "cell_type": "code",
   "execution_count": null,
   "metadata": {},
   "outputs": [],
   "source": []
  }
 ],
 "metadata": {
  "kernelspec": {
   "display_name": "Python 3 (ipykernel)",
   "language": "python",
   "name": "python3"
  },
  "language_info": {
   "codemirror_mode": {
    "name": "ipython",
    "version": 3
   },
   "file_extension": ".py",
   "mimetype": "text/x-python",
   "name": "python",
   "nbconvert_exporter": "python",
   "pygments_lexer": "ipython3",
   "version": "3.8.11"
  }
 },
 "nbformat": 4,
 "nbformat_minor": 4
}
